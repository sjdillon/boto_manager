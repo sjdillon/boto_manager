{
 "cells": [
  {
   "cell_type": "markdown",
   "metadata": {},
   "source": [
    "# boto manager"
   ]
  },
  {
   "cell_type": "markdown",
   "metadata": {},
   "source": [
    "## Quick Start\n",
    "install boto_manager"
   ]
  },
  {
   "cell_type": "code",
   "execution_count": 21,
   "metadata": {},
   "outputs": [
    {
     "name": "stdout",
     "output_type": "stream",
     "text": [
      "  Running command git clone -q https://github.com/sjdillon/boto_manager /tmp/pip-req-build-o8i52ub4\n",
      "Successfully built boto-manager\n"
     ]
    }
   ],
   "source": [
    "!pip install git+https://github.com/sjdillon/boto_manager | tail -n 1"
   ]
  },
  {
   "cell_type": "markdown",
   "metadata": {},
   "source": [
    "Set up credentials (in e.g. ~/.aws/credentials):\n",
    "```\n",
    "[default]\n",
    "aws_access_key_id = YOUR_KEY\n",
    "aws_secret_access_key = YOUR_SECRET`\n",
    "```\n",
    "\n",
    "Set up a default region (in e.g. ~/.aws/config):\n",
    "```\n",
    "[default]\n",
    "region=us-east-1\n",
    "```"
   ]
  },
  {
   "cell_type": "markdown",
   "metadata": {},
   "source": [
    "# Usage"
   ]
  },
  {
   "cell_type": "markdown",
   "metadata": {},
   "source": [
    "create a folder to store mock files"
   ]
  },
  {
   "cell_type": "code",
   "execution_count": 10,
   "metadata": {},
   "outputs": [],
   "source": [
    "!mkdir mock_data/"
   ]
  },
  {
   "cell_type": "markdown",
   "metadata": {},
   "source": [
    "record: save boto call response to mock file"
   ]
  },
  {
   "cell_type": "code",
   "execution_count": 9,
   "metadata": {},
   "outputs": [
    {
     "name": "stderr",
     "output_type": "stream",
     "text": [
      "2019-09-01 21:07:50,921 - 140671852791616 - INFO - recording boto to /home/sean/jupyter/mock_data\n",
      "2019-09-01 21:07:50,924 - 140671852791616 - INFO - Found credentials in shared credentials file: ~/.aws/credentials\n",
      "2019-09-01 21:07:51,419 - 140671852791616 - INFO - result: {'Subscriptions': [{'SubscriptionArn': 'arn:aws:sns:us-west-2:000000000000:sjd-demo-dev-sns-pipeline-approve:590ffd51-5ff2-415c-825b-d144bcdafcc6', 'Owner': '000000000000', 'Protocol': 'email', 'Endpoint': 'sjdillon', 'TopicArn': 'arn:aws:sns:us-west-2:000000000000:sjd-demo-dev-sns-pipeline-approve'}, {'SubscriptionArn': 'arn:aws:sns:us-west-2:000000000000:sjd-demo-dev-deploy-events:77b3e8d6-e7dd-4243-b6fd-f51defa71e8d', 'Owner': '000000000000', 'Protocol': 'email', 'Endpoint': 'sjdillon', 'TopicArn': 'arn:aws:sns:us-west-2:000000000000:sjd-demo-dev-deploy-events'}], 'NextToken': 'AAGoclrsijma6fqTf/zmfTYNc++0cggCxdo/nm2QK6c7KQ==', 'ResponseMetadata': {'RequestId': 'b19aad38-be9e-504b-ada6-f8ded33939b8', 'HTTPStatusCode': 200, 'HTTPHeaders': {'x-amzn-requestid': 'b19aad38-be9e-504b-ada6-f8ded33939b8', 'content-type': 'text/xml', 'content-length': '1173', 'date': 'Mon, 02 Sep 2019 01:07:50 GMT'}, 'RetryAttempts': 0}}\n"
     ]
    }
   ],
   "source": [
    "import os\n",
    "import logging\n",
    "import boto_manager\n",
    "\n",
    "logging.basicConfig(format=\"%(asctime)s - %(thread)s - %(levelname)s - %(message)s\")\n",
    "logger = logging.getLogger()\n",
    "logger.setLevel(logging.INFO)\n",
    "\n",
    "# create an event to be passed to BotoClientManager\n",
    "event={}\n",
    "event['service'] = 'sns'\n",
    "event['region'] = 'us-west-2'\n",
    "\n",
    "# set the path to store the mock files\n",
    "mock_data_path = os.path.join(os.path.dirname(os.path.abspath('.')), 'mock_data')\n",
    "event['mock_data_path'] = mock_data_path\n",
    "\n",
    "# set to record calls\n",
    "event['mock_mode'] = 'record'\n",
    "\n",
    "# create a boto_client_manager boto client\n",
    "bc=boto_manager.BotoClientManager(event)\n",
    "client = bc.get_client()\n",
    "\n",
    "# run a boto call to aws (and record data for mocking)\n",
    "result = client.list_subscriptions()\n",
    "logger.info('result: {}'.format(result))\n",
    "assert 'Subscriptions' in result\n"
   ]
  },
  {
   "cell_type": "markdown",
   "metadata": {},
   "source": [
    "confirm: check that a mock file was created"
   ]
  },
  {
   "cell_type": "code",
   "execution_count": 2,
   "metadata": {},
   "outputs": [
    {
     "data": {
      "text/plain": [
       "['sns.ListSubscriptions_1.json', 'sns.ListSubscriptions_2.json']"
      ]
     },
     "execution_count": 2,
     "metadata": {},
     "output_type": "execute_result"
    }
   ],
   "source": [
    "assert 'sns.ListSubscriptions_1.json' in os.listdir(mock_data_path)\n",
    "os.listdir(mock_data_path)\n"
   ]
  },
  {
   "cell_type": "markdown",
   "metadata": {},
   "source": [
    "playback: run the same call using the mock file"
   ]
  },
  {
   "cell_type": "code",
   "execution_count": 3,
   "metadata": {},
   "outputs": [
    {
     "name": "stderr",
     "output_type": "stream",
     "text": [
      "2019-09-01 20:30:31,518 - 140671852791616 - INFO - playing back mock boto calls from /home/sean/jupyter/mock_data\n",
      "2019-09-01 20:30:31,531 - 140671852791616 - INFO - Found credentials in shared credentials file: ~/.aws/credentials\n",
      "2019-09-01 20:30:31,589 - 140671852791616 - INFO - result: {'Subscriptions': [{'SubscriptionArn': 'arn:aws:sns:us-west-2:000000000000:sjd-demo-dev-sns-pipeline-approve:590ffd51-5ff2-415c-825b-d144bcdafcc6', 'Owner': '000000000000', 'Protocol': 'email', 'Endpoint': 'sjdillon', 'TopicArn': 'arn:aws:sns:us-west-2:000000000000:sjd-demo-dev-sns-pipeline-approve'}, {'SubscriptionArn': 'arn:aws:sns:us-west-2:000000000000:sjd-demo-dev-deploy-events:77b3e8d6-e7dd-4243-b6fd-f51defa71e8d', 'Owner': '000000000000', 'Protocol': 'email', 'Endpoint': 'sjdillon', 'TopicArn': 'arn:aws:sns:us-west-2:000000000000:sjd-demo-dev-deploy-events'}], 'NextToken': 'AAHoZj78oUtiutI0qTxPoubt0a25vsa5vgdOyqsWkuCunA==', 'ResponseMetadata': {'RequestId': 'ded87dae-c1e3-5739-88c6-2848f9d246d4', 'HTTPStatusCode': 200, 'HTTPHeaders': {'x-amzn-requestid': 'ded87dae-c1e3-5739-88c6-2848f9d246d4', 'content-type': 'text/xml', 'content-length': '1173', 'date': 'Sun, 01 Sep 2019 21:19:45 GMT'}, 'RetryAttempts': 0}}\n"
     ]
    }
   ],
   "source": [
    "event['mock_mode'] = 'playback'\n",
    "\n",
    "# create a new client that specifies playback mode\n",
    "bc=boto_manager.BotoClientManager(event)\n",
    "client = bc.get_client()\n",
    "\n",
    "# run the boto aws call\n",
    "result = client.list_subscriptions()\n",
    "logger.info('result: {}'.format(result))\n",
    "assert 'Subscriptions' in result\n"
   ]
  }
 ],
 "metadata": {
  "kernelspec": {
   "display_name": "Python 3",
   "language": "python",
   "name": "python3"
  },
  "language_info": {
   "codemirror_mode": {
    "name": "ipython",
    "version": 3
   },
   "file_extension": ".py",
   "mimetype": "text/x-python",
   "name": "python",
   "nbconvert_exporter": "python",
   "pygments_lexer": "ipython3",
   "version": "3.6.8"
  }
 },
 "nbformat": 4,
 "nbformat_minor": 2
}
